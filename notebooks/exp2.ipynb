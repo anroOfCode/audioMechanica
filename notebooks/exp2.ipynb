{
 "cells": [
  {
   "cell_type": "markdown",
   "metadata": {},
   "source": [
    "# Experiment 2\n",
    "\n",
    "## Goals\n",
    "\n",
    "* Experiment with a RNN for beat onset detection\n",
    "\n",
    "This is a little far away from the larger goal of algorithmic generation, but an important building block. So far we've created a little bit of manual tagging process, where we build beat-annotated datasets manually. That's fine and all, but if we could get reliable beat detection we'd be in a better place and could automate this front-end process.\n",
    "\n",
    "## Context\n",
    "\n",
    "The two peices of established work in this domain are (Bock & Schedl)'s work and (Eyben et. al.). Both of these papers use LSTM networks to perform detection. Eyben's work targets the generalized problem of onset detection, while Bock's work is specific to beat tracking.\n",
    "\n",
    "* Both achieved roughly state-of-the-art results using standardized datasets.\n",
    "* Both used multiple Mel spectrographs with varying window sizes to build the input feature vector.\n",
    "\n",
    "It seems we likely can get even a little more bang-for-buck by making some stricter assumptions about the composition of the piece in question. Mainly, we can assume that the beats always falls in a pretty tight band of between 100-140bpm, with most tracks sitting right around 120bpm. Given this, it's mostly a phase-detection problem.\n",
    "\n",
    "### Bock's Approach - Similarities & Differences\n",
    "\n",
    "* Mel window sizes of 23.3ms, 46.4ms, 92.8ms, 10ms step. => 120 input units.\n",
    "* Network consists of two soft-max output layer nodes. \n",
    "* Three hidden layers in each direction, 25 LSTM units each (6 layers with 150 units total)\n",
    "\n",
    "Instead of taking the direct thresholded value from the beat activation function, they layer a more sophisticated algorithm atop it that assumems a stable tempo. It's a little curious that they do this- it's counter to the typical idea that the network itself should be able to capture relationships like this.\n",
    "\n",
    "**Strategy Difference** - I don't see value in doing this right away. Bock didn't investigate the affect of training duration or training dataset size on accuracy, but I feel there is much more to be gained from those kind of investments vs. this kind of manual algorithmic construction. The conclusion of the paper, suggesting more advanced feature construction as a possible direction for future work, seems a little misaligned with a pure LSTM approach. DBNs and RNNs have found success in abandoning rigorous model construction.\n",
    "\n",
    "\n",
    "#### Training Data\n",
    "\n",
    "* 88 audio excerpts from ISMIR 2004 temp induction contest, each one 10s in length.\n",
    "* 26 training/bonus files from MIREX 2006 beat tracking contest with lengths of 30s\n",
    "* 6 pieces in Bello's set lengths 4-15 seconds.\n",
    "* In total: 120 files, 28.5 minutes, 3595 beats.\n",
    "* Validation set- 15% disjoint part\n",
    "\n",
    "This seems like a pretty small set of training data. The high point is that 120 files likely means a lower bound of 120 distinct measures / compositions. Most music is repetitive, so increasing the duration won't do much to help a trainer, but a large, diverse set of audio likely will.\n",
    "\n",
    "It seems trivial to build a competitive training set using our C# tagger. We'll have slightly-less accurate beat annotations, I've never been particularly good at keeping a tempo, but a larger corpus and the power of large numbers should give us good accuracy in spite of that. \n",
    "\n",
    "## Approach\n",
    "\n",
    "* https://github.com/jameslyons/python_speech_features - Pre-packaged MFCC library for Python/numpy\n",
    "\n"
   ]
  }
 ],
 "metadata": {
  "kernelspec": {
   "display_name": "Python 2",
   "language": "python",
   "name": "python2"
  },
  "language_info": {
   "codemirror_mode": {
    "name": "ipython",
    "version": 2
   },
   "file_extension": ".py",
   "mimetype": "text/x-python",
   "name": "python",
   "nbconvert_exporter": "python",
   "pygments_lexer": "ipython2",
   "version": "2.7.11"
  }
 },
 "nbformat": 4,
 "nbformat_minor": 0
}
